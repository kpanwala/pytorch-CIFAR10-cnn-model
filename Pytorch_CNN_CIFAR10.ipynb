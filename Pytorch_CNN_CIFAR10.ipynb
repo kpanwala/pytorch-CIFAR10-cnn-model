{
  "nbformat": 4,
  "nbformat_minor": 0,
  "metadata": {
    "colab": {
      "name": "Pytorch CNN CIFAR10",
      "provenance": [],
      "collapsed_sections": [],
      "toc_visible": true
    },
    "kernelspec": {
      "display_name": "Python 3",
      "name": "python3"
    },
    "accelerator": "GPU",
    "widgets": {
      "application/vnd.jupyter.widget-state+json": {
        "1470970506384116a7c390593ef94409": {
          "model_module": "@jupyter-widgets/controls",
          "model_name": "HBoxModel",
          "state": {
            "_view_name": "HBoxView",
            "_dom_classes": [],
            "_model_name": "HBoxModel",
            "_view_module": "@jupyter-widgets/controls",
            "_model_module_version": "1.5.0",
            "_view_count": null,
            "_view_module_version": "1.5.0",
            "box_style": "",
            "layout": "IPY_MODEL_3b58f4f7c1c748b4b864ba4ad5cc4fe3",
            "_model_module": "@jupyter-widgets/controls",
            "children": [
              "IPY_MODEL_7fd54d2864594f6ea2479e867f3ad372",
              "IPY_MODEL_14ea5a22d56541beb3a457d4dfe12e60"
            ]
          }
        },
        "3b58f4f7c1c748b4b864ba4ad5cc4fe3": {
          "model_module": "@jupyter-widgets/base",
          "model_name": "LayoutModel",
          "state": {
            "_view_name": "LayoutView",
            "grid_template_rows": null,
            "right": null,
            "justify_content": null,
            "_view_module": "@jupyter-widgets/base",
            "overflow": null,
            "_model_module_version": "1.2.0",
            "_view_count": null,
            "flex_flow": null,
            "width": null,
            "min_width": null,
            "border": null,
            "align_items": null,
            "bottom": null,
            "_model_module": "@jupyter-widgets/base",
            "top": null,
            "grid_column": null,
            "overflow_y": null,
            "overflow_x": null,
            "grid_auto_flow": null,
            "grid_area": null,
            "grid_template_columns": null,
            "flex": null,
            "_model_name": "LayoutModel",
            "justify_items": null,
            "grid_row": null,
            "max_height": null,
            "align_content": null,
            "visibility": null,
            "align_self": null,
            "height": null,
            "min_height": null,
            "padding": null,
            "grid_auto_rows": null,
            "grid_gap": null,
            "max_width": null,
            "order": null,
            "_view_module_version": "1.2.0",
            "grid_template_areas": null,
            "object_position": null,
            "object_fit": null,
            "grid_auto_columns": null,
            "margin": null,
            "display": null,
            "left": null
          }
        },
        "7fd54d2864594f6ea2479e867f3ad372": {
          "model_module": "@jupyter-widgets/controls",
          "model_name": "FloatProgressModel",
          "state": {
            "_view_name": "ProgressView",
            "style": "IPY_MODEL_889b94dc6f194e368a7518c12ec4cc96",
            "_dom_classes": [],
            "description": "",
            "_model_name": "FloatProgressModel",
            "bar_style": "info",
            "max": 1,
            "_view_module": "@jupyter-widgets/controls",
            "_model_module_version": "1.5.0",
            "value": 1,
            "_view_count": null,
            "_view_module_version": "1.5.0",
            "orientation": "horizontal",
            "min": 0,
            "description_tooltip": null,
            "_model_module": "@jupyter-widgets/controls",
            "layout": "IPY_MODEL_9da9a5fc82db4407a78b2a589ad129d8"
          }
        },
        "14ea5a22d56541beb3a457d4dfe12e60": {
          "model_module": "@jupyter-widgets/controls",
          "model_name": "HTMLModel",
          "state": {
            "_view_name": "HTMLView",
            "style": "IPY_MODEL_1aac205a13f945ce85edb8f46e9c640b",
            "_dom_classes": [],
            "description": "",
            "_model_name": "HTMLModel",
            "placeholder": "​",
            "_view_module": "@jupyter-widgets/controls",
            "_model_module_version": "1.5.0",
            "value": " 170500096/? [00:30&lt;00:00, 17241455.02it/s]",
            "_view_count": null,
            "_view_module_version": "1.5.0",
            "description_tooltip": null,
            "_model_module": "@jupyter-widgets/controls",
            "layout": "IPY_MODEL_07514fc8776a475786e7cb68922a2292"
          }
        },
        "889b94dc6f194e368a7518c12ec4cc96": {
          "model_module": "@jupyter-widgets/controls",
          "model_name": "ProgressStyleModel",
          "state": {
            "_view_name": "StyleView",
            "_model_name": "ProgressStyleModel",
            "description_width": "initial",
            "_view_module": "@jupyter-widgets/base",
            "_model_module_version": "1.5.0",
            "_view_count": null,
            "_view_module_version": "1.2.0",
            "bar_color": null,
            "_model_module": "@jupyter-widgets/controls"
          }
        },
        "9da9a5fc82db4407a78b2a589ad129d8": {
          "model_module": "@jupyter-widgets/base",
          "model_name": "LayoutModel",
          "state": {
            "_view_name": "LayoutView",
            "grid_template_rows": null,
            "right": null,
            "justify_content": null,
            "_view_module": "@jupyter-widgets/base",
            "overflow": null,
            "_model_module_version": "1.2.0",
            "_view_count": null,
            "flex_flow": null,
            "width": null,
            "min_width": null,
            "border": null,
            "align_items": null,
            "bottom": null,
            "_model_module": "@jupyter-widgets/base",
            "top": null,
            "grid_column": null,
            "overflow_y": null,
            "overflow_x": null,
            "grid_auto_flow": null,
            "grid_area": null,
            "grid_template_columns": null,
            "flex": null,
            "_model_name": "LayoutModel",
            "justify_items": null,
            "grid_row": null,
            "max_height": null,
            "align_content": null,
            "visibility": null,
            "align_self": null,
            "height": null,
            "min_height": null,
            "padding": null,
            "grid_auto_rows": null,
            "grid_gap": null,
            "max_width": null,
            "order": null,
            "_view_module_version": "1.2.0",
            "grid_template_areas": null,
            "object_position": null,
            "object_fit": null,
            "grid_auto_columns": null,
            "margin": null,
            "display": null,
            "left": null
          }
        },
        "1aac205a13f945ce85edb8f46e9c640b": {
          "model_module": "@jupyter-widgets/controls",
          "model_name": "DescriptionStyleModel",
          "state": {
            "_view_name": "StyleView",
            "_model_name": "DescriptionStyleModel",
            "description_width": "",
            "_view_module": "@jupyter-widgets/base",
            "_model_module_version": "1.5.0",
            "_view_count": null,
            "_view_module_version": "1.2.0",
            "_model_module": "@jupyter-widgets/controls"
          }
        },
        "07514fc8776a475786e7cb68922a2292": {
          "model_module": "@jupyter-widgets/base",
          "model_name": "LayoutModel",
          "state": {
            "_view_name": "LayoutView",
            "grid_template_rows": null,
            "right": null,
            "justify_content": null,
            "_view_module": "@jupyter-widgets/base",
            "overflow": null,
            "_model_module_version": "1.2.0",
            "_view_count": null,
            "flex_flow": null,
            "width": null,
            "min_width": null,
            "border": null,
            "align_items": null,
            "bottom": null,
            "_model_module": "@jupyter-widgets/base",
            "top": null,
            "grid_column": null,
            "overflow_y": null,
            "overflow_x": null,
            "grid_auto_flow": null,
            "grid_area": null,
            "grid_template_columns": null,
            "flex": null,
            "_model_name": "LayoutModel",
            "justify_items": null,
            "grid_row": null,
            "max_height": null,
            "align_content": null,
            "visibility": null,
            "align_self": null,
            "height": null,
            "min_height": null,
            "padding": null,
            "grid_auto_rows": null,
            "grid_gap": null,
            "max_width": null,
            "order": null,
            "_view_module_version": "1.2.0",
            "grid_template_areas": null,
            "object_position": null,
            "object_fit": null,
            "grid_auto_columns": null,
            "margin": null,
            "display": null,
            "left": null
          }
        }
      }
    }
  },
  "cells": [
    {
      "cell_type": "code",
      "metadata": {
        "id": "KgGAiNVykm3T",
        "colab_type": "code",
        "colab": {}
      },
      "source": [
        "import torch\n",
        "import torchvision\n",
        "import torchvision.transforms as transforms\n",
        "import matplotlib.pyplot as plt\n",
        "import numpy as np"
      ],
      "execution_count": 1,
      "outputs": []
    },
    {
      "cell_type": "code",
      "metadata": {
        "id": "oxNmGzvGgb4G",
        "colab_type": "code",
        "colab": {
          "base_uri": "https://localhost:8080/",
          "height": 35
        },
        "outputId": "e7592929-7ec7-4f99-a7a4-3401f6a715ec"
      },
      "source": [
        "device = torch.device('cuda:0' if torch.cuda.is_available() else 'cpu')\n",
        "print(device)"
      ],
      "execution_count": 3,
      "outputs": [
        {
          "output_type": "stream",
          "text": [
            "cuda:0\n"
          ],
          "name": "stdout"
        }
      ]
    },
    {
      "cell_type": "code",
      "metadata": {
        "id": "Lqw9b7w6k5Ei",
        "colab_type": "code",
        "colab": {}
      },
      "source": [
        "train_transforms = transforms.Compose([transforms.ToTensor(),\n",
        "                                       transforms.Normalize((0.5, 0.5, 0.5), (0.5, 0.5, 0.5))])\n",
        "\n",
        "test_transforms = transforms.Compose([transforms.ToTensor(),\n",
        "                                      transforms.Normalize((0.5, 0.5, 0.5), (0.5, 0.5, 0.5))])"
      ],
      "execution_count": 4,
      "outputs": []
    },
    {
      "cell_type": "code",
      "metadata": {
        "id": "D11dQ3Vou2Ss",
        "colab_type": "code",
        "colab": {
          "base_uri": "https://localhost:8080/",
          "height": 84,
          "referenced_widgets": [
            "1470970506384116a7c390593ef94409",
            "3b58f4f7c1c748b4b864ba4ad5cc4fe3",
            "7fd54d2864594f6ea2479e867f3ad372",
            "14ea5a22d56541beb3a457d4dfe12e60",
            "889b94dc6f194e368a7518c12ec4cc96",
            "9da9a5fc82db4407a78b2a589ad129d8",
            "1aac205a13f945ce85edb8f46e9c640b",
            "07514fc8776a475786e7cb68922a2292"
          ]
        },
        "outputId": "7119cb04-5146-43e0-dee8-1356ea2b8d3d"
      },
      "source": [
        "trainset = torchvision.datasets.CIFAR10(root='./data', train=True,\n",
        "                                        download=True, transform=train_transforms)\n",
        "trainloader = torch.utils.data.DataLoader(trainset, batch_size=4,\n",
        "                                          shuffle=True, num_workers=2)"
      ],
      "execution_count": 5,
      "outputs": [
        {
          "output_type": "stream",
          "text": [
            "Downloading https://www.cs.toronto.edu/~kriz/cifar-10-python.tar.gz to ./data/cifar-10-python.tar.gz\n"
          ],
          "name": "stdout"
        },
        {
          "output_type": "display_data",
          "data": {
            "application/vnd.jupyter.widget-view+json": {
              "model_id": "1470970506384116a7c390593ef94409",
              "version_minor": 0,
              "version_major": 2
            },
            "text/plain": [
              "HBox(children=(FloatProgress(value=1.0, bar_style='info', max=1.0), HTML(value='')))"
            ]
          },
          "metadata": {
            "tags": []
          }
        },
        {
          "output_type": "stream",
          "text": [
            "Extracting ./data/cifar-10-python.tar.gz to ./data\n"
          ],
          "name": "stdout"
        }
      ]
    },
    {
      "cell_type": "code",
      "metadata": {
        "id": "K8xzl1VhvYE9",
        "colab_type": "code",
        "colab": {
          "base_uri": "https://localhost:8080/",
          "height": 35
        },
        "outputId": "db52bd31-e97d-4ebb-dda4-2c80130d2362"
      },
      "source": [
        "testset = torchvision.datasets.CIFAR10(root='./data', train=False,\n",
        "                                        download=True, transform=test_transforms)\n",
        "testloader = torch.utils.data.DataLoader(testset, batch_size=4,\n",
        "                                          shuffle=True, num_workers=2)"
      ],
      "execution_count": 6,
      "outputs": [
        {
          "output_type": "stream",
          "text": [
            "Files already downloaded and verified\n"
          ],
          "name": "stdout"
        }
      ]
    },
    {
      "cell_type": "code",
      "metadata": {
        "id": "VQM_-bv5vjsD",
        "colab_type": "code",
        "colab": {}
      },
      "source": [
        "classes = ('plane', 'car', 'bird', 'cat',\n",
        "           'deer', 'dog', 'frog', 'horse', 'ship', 'truck')"
      ],
      "execution_count": 7,
      "outputs": []
    },
    {
      "cell_type": "code",
      "metadata": {
        "id": "ExMJM2z1wAEE",
        "colab_type": "code",
        "colab": {}
      },
      "source": [
        "import torch.nn as nn\n",
        "import torch.nn.functional as F\n",
        "\n",
        "class Net(nn.Module):\n",
        "\n",
        "    def __init__(self, num_classes=10):\n",
        "          super(Net, self).__init__()\n",
        "          self.layer1 = nn.Sequential(\n",
        "              nn.Conv2d(3, 16, kernel_size=5, stride=1, padding=2),\n",
        "              nn.BatchNorm2d(16),\n",
        "              nn.ReLU(),\n",
        "              nn.MaxPool2d(kernel_size=2, stride=2))\n",
        "          self.layer2 = nn.Sequential(\n",
        "              nn.Conv2d(16, 32, kernel_size=5, stride=1, padding=2),\n",
        "              nn.BatchNorm2d(32),\n",
        "              nn.ReLU(),\n",
        "              nn.MaxPool2d(kernel_size=2, stride=2))\n",
        "          self.fc1 = nn.Linear(8*8*32, 64)\n",
        "          self.fc2 = nn.Linear(64, 128) #num_classes\n",
        "          self.fc3 = nn.Linear(128, num_classes)\n",
        "          self.softmax = nn.LogSoftmax()\n",
        "          self.dropout = nn.Dropout(0.1)\n",
        "        \n",
        "    def forward(self, x):\n",
        "          out = self.dropout(self.layer1(x))\n",
        "          out = self.dropout(self.layer2(out))\n",
        "          out = out.reshape(out.size(0), -1)\n",
        "          out = self.dropout(self.fc1(out))\n",
        "          out = self.dropout(self.fc2(out))\n",
        "          out = self.fc3(out)\n",
        "          return F.log_softmax(out, dim=1)\n",
        "\n",
        "net = Net().to(device)"
      ],
      "execution_count": 19,
      "outputs": []
    },
    {
      "cell_type": "code",
      "metadata": {
        "id": "sj9krYRwYW-N",
        "colab_type": "code",
        "colab": {}
      },
      "source": [
        "import torch.optim as optim\n",
        "\n",
        "criterion = nn.CrossEntropyLoss()\n",
        "optimizer = optim.SGD(net.parameters(), lr=0.001, momentum=0.9)"
      ],
      "execution_count": 21,
      "outputs": []
    },
    {
      "cell_type": "code",
      "metadata": {
        "id": "8_9sAjTZZEh2",
        "colab_type": "code",
        "colab": {
          "base_uri": "https://localhost:8080/",
          "height": 550
        },
        "outputId": "69a573ae-cd2d-4508-a98c-ffe3219323fe"
      },
      "source": [
        "from tqdm import tqdm\n",
        "\n",
        "epochs = 5\n",
        "total_step = len(trainloader)\n",
        "\n",
        "for epoch in range(epochs):\n",
        "  running_loss = 0.0\n",
        "\n",
        "  for i,data in enumerate(trainloader):\n",
        "    inputs,labels = data[0].to(device), data[1].to(device)\n",
        "\n",
        "    output = net(inputs)\n",
        "    loss = criterion(output,labels)\n",
        "    \n",
        "    optimizer.zero_grad()\n",
        "    loss.backward()\n",
        "    optimizer.step()\n",
        "\n",
        "\n",
        "    running_loss += loss.item()\n",
        "    if (i+1) % 2000 == 1999:\n",
        "      print ('Epoch [{}/{}], Step [{}/{}], Loss: {:.4f}'.format(epoch+1, epochs, i+1, total_step, loss.item()))"
      ],
      "execution_count": 22,
      "outputs": [
        {
          "output_type": "stream",
          "text": [
            "Epoch [1/5], Step [1999/12500], Loss: 1.7752\n",
            "Epoch [1/5], Step [3999/12500], Loss: 2.0318\n",
            "Epoch [1/5], Step [5999/12500], Loss: 1.1742\n",
            "Epoch [1/5], Step [7999/12500], Loss: 3.3845\n",
            "Epoch [1/5], Step [9999/12500], Loss: 1.7303\n",
            "Epoch [1/5], Step [11999/12500], Loss: 1.3686\n",
            "Epoch [2/5], Step [1999/12500], Loss: 0.3384\n",
            "Epoch [2/5], Step [3999/12500], Loss: 0.5904\n",
            "Epoch [2/5], Step [5999/12500], Loss: 1.2700\n",
            "Epoch [2/5], Step [7999/12500], Loss: 0.7576\n",
            "Epoch [2/5], Step [9999/12500], Loss: 0.6605\n",
            "Epoch [2/5], Step [11999/12500], Loss: 0.5418\n",
            "Epoch [3/5], Step [1999/12500], Loss: 1.3913\n",
            "Epoch [3/5], Step [3999/12500], Loss: 0.7527\n",
            "Epoch [3/5], Step [5999/12500], Loss: 0.7835\n",
            "Epoch [3/5], Step [7999/12500], Loss: 0.8849\n",
            "Epoch [3/5], Step [9999/12500], Loss: 1.0801\n",
            "Epoch [3/5], Step [11999/12500], Loss: 0.6394\n",
            "Epoch [4/5], Step [1999/12500], Loss: 1.6524\n",
            "Epoch [4/5], Step [3999/12500], Loss: 0.5143\n",
            "Epoch [4/5], Step [5999/12500], Loss: 0.9938\n",
            "Epoch [4/5], Step [7999/12500], Loss: 0.4111\n",
            "Epoch [4/5], Step [9999/12500], Loss: 1.5155\n",
            "Epoch [4/5], Step [11999/12500], Loss: 1.2407\n",
            "Epoch [5/5], Step [1999/12500], Loss: 0.7865\n",
            "Epoch [5/5], Step [3999/12500], Loss: 0.7945\n",
            "Epoch [5/5], Step [5999/12500], Loss: 0.4139\n",
            "Epoch [5/5], Step [7999/12500], Loss: 2.0807\n",
            "Epoch [5/5], Step [9999/12500], Loss: 0.9196\n",
            "Epoch [5/5], Step [11999/12500], Loss: 1.4797\n"
          ],
          "name": "stdout"
        }
      ]
    },
    {
      "cell_type": "code",
      "metadata": {
        "id": "Cpqg1vd7eBI-",
        "colab_type": "code",
        "colab": {}
      },
      "source": [
        "PATH = './cifar_net.pth'\n",
        "torch.save(net.state_dict(), PATH)"
      ],
      "execution_count": 23,
      "outputs": []
    },
    {
      "cell_type": "markdown",
      "metadata": {
        "id": "HPBiqVQ5eU_E",
        "colab_type": "text"
      },
      "source": [
        "# **Prediction time**"
      ]
    },
    {
      "cell_type": "code",
      "metadata": {
        "id": "zBibel6JeJhA",
        "colab_type": "code",
        "colab": {
          "base_uri": "https://localhost:8080/",
          "height": 35
        },
        "outputId": "dbb498ae-b671-4444-ddfa-4321f21c7805"
      },
      "source": [
        "net = Net().to(device)\n",
        "net.load_state_dict(torch.load(PATH))"
      ],
      "execution_count": 24,
      "outputs": [
        {
          "output_type": "execute_result",
          "data": {
            "text/plain": [
              "<All keys matched successfully>"
            ]
          },
          "metadata": {
            "tags": []
          },
          "execution_count": 24
        }
      ]
    },
    {
      "cell_type": "code",
      "metadata": {
        "id": "FantGv4QerFO",
        "colab_type": "code",
        "colab": {
          "base_uri": "https://localhost:8080/",
          "height": 35
        },
        "outputId": "7c91c3f2-8862-4321-cdcd-ff5260e65c5a"
      },
      "source": [
        "correct=0\n",
        "total=0\n",
        "\n",
        "net.eval()\n",
        "with torch.no_grad():\n",
        "  for data in testloader:\n",
        "    images,labels = data[0].to(device), data[1].to(device)\n",
        "    \n",
        "    outputs = net(images)\n",
        "    _ , predicted = torch.max(outputs.data,1)\n",
        "    total += labels.size(0)\n",
        "    correct += (predicted==labels).sum().item()\n",
        "\n",
        "  print('Accuracy of the network on the 10000 test images: {}'.format(correct*100/total))\n"
      ],
      "execution_count": 25,
      "outputs": [
        {
          "output_type": "stream",
          "text": [
            "Accuracy of the network on the 10000 test images: 71.26\n"
          ],
          "name": "stdout"
        }
      ]
    }
  ]
}